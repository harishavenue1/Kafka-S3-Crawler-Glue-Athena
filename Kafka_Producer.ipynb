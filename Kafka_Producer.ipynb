{
 "cells": [
  {
   "cell_type": "code",
   "execution_count": 22,
   "id": "895e633e",
   "metadata": {},
   "outputs": [
    {
     "name": "stdout",
     "output_type": "stream",
     "text": [
      "Requirement already satisfied: kafka-python in c:\\users\\harish\\anaconda3\\lib\\site-packages (2.0.2)\n",
      "Note: you may need to restart the kernel to use updated packages.\n"
     ]
    }
   ],
   "source": [
    "pip install kafka-python"
   ]
  },
  {
   "cell_type": "code",
   "execution_count": 23,
   "id": "6945652b",
   "metadata": {},
   "outputs": [],
   "source": [
    "import pandas as pd\n",
    "from kafka import KafkaProducer\n",
    "from time import sleep\n",
    "from json import dumps\n",
    "import json"
   ]
  },
  {
   "cell_type": "code",
   "execution_count": 24,
   "id": "d14da269",
   "metadata": {},
   "outputs": [],
   "source": [
    "producer = KafkaProducer(bootstrap_servers=['43.205.192.154:9092'], #change ip here\n",
    "                         value_serializer=lambda x: \n",
    "                         dumps(x).encode('utf-8'))"
   ]
  },
  {
   "cell_type": "code",
   "execution_count": 25,
   "id": "ada1d7fc",
   "metadata": {},
   "outputs": [
    {
     "data": {
      "text/plain": [
       "<kafka.producer.future.FutureRecordMetadata at 0x23ca500f4f0>"
      ]
     },
     "execution_count": 25,
     "metadata": {},
     "output_type": "execute_result"
    }
   ],
   "source": [
    "producer.send('demo_testing2', value={'Name':'Harish'})"
   ]
  },
  {
   "cell_type": "code",
   "execution_count": 26,
   "id": "51741cf6",
   "metadata": {},
   "outputs": [],
   "source": [
    "df = pd.read_csv(\"F:/Kafka_data/indexProcessed.csv\")"
   ]
  },
  {
   "cell_type": "code",
   "execution_count": 27,
   "id": "a10b5c77",
   "metadata": {},
   "outputs": [
    {
     "data": {
      "text/html": [
       "<div>\n",
       "<style scoped>\n",
       "    .dataframe tbody tr th:only-of-type {\n",
       "        vertical-align: middle;\n",
       "    }\n",
       "\n",
       "    .dataframe tbody tr th {\n",
       "        vertical-align: top;\n",
       "    }\n",
       "\n",
       "    .dataframe thead th {\n",
       "        text-align: right;\n",
       "    }\n",
       "</style>\n",
       "<table border=\"1\" class=\"dataframe\">\n",
       "  <thead>\n",
       "    <tr style=\"text-align: right;\">\n",
       "      <th></th>\n",
       "      <th>Index</th>\n",
       "      <th>Date</th>\n",
       "      <th>Open</th>\n",
       "      <th>High</th>\n",
       "      <th>Low</th>\n",
       "      <th>Close</th>\n",
       "      <th>Adj Close</th>\n",
       "      <th>Volume</th>\n",
       "      <th>CloseUSD</th>\n",
       "    </tr>\n",
       "  </thead>\n",
       "  <tbody>\n",
       "    <tr>\n",
       "      <th>0</th>\n",
       "      <td>HSI</td>\n",
       "      <td>1986-12-31</td>\n",
       "      <td>2568.300049</td>\n",
       "      <td>2568.300049</td>\n",
       "      <td>2568.300049</td>\n",
       "      <td>2568.300049</td>\n",
       "      <td>2568.300049</td>\n",
       "      <td>0.0</td>\n",
       "      <td>333.879006</td>\n",
       "    </tr>\n",
       "    <tr>\n",
       "      <th>1</th>\n",
       "      <td>HSI</td>\n",
       "      <td>1987-01-02</td>\n",
       "      <td>2540.100098</td>\n",
       "      <td>2540.100098</td>\n",
       "      <td>2540.100098</td>\n",
       "      <td>2540.100098</td>\n",
       "      <td>2540.100098</td>\n",
       "      <td>0.0</td>\n",
       "      <td>330.213013</td>\n",
       "    </tr>\n",
       "    <tr>\n",
       "      <th>2</th>\n",
       "      <td>HSI</td>\n",
       "      <td>1987-01-05</td>\n",
       "      <td>2552.399902</td>\n",
       "      <td>2552.399902</td>\n",
       "      <td>2552.399902</td>\n",
       "      <td>2552.399902</td>\n",
       "      <td>2552.399902</td>\n",
       "      <td>0.0</td>\n",
       "      <td>331.811987</td>\n",
       "    </tr>\n",
       "    <tr>\n",
       "      <th>3</th>\n",
       "      <td>HSI</td>\n",
       "      <td>1987-01-06</td>\n",
       "      <td>2583.899902</td>\n",
       "      <td>2583.899902</td>\n",
       "      <td>2583.899902</td>\n",
       "      <td>2583.899902</td>\n",
       "      <td>2583.899902</td>\n",
       "      <td>0.0</td>\n",
       "      <td>335.906987</td>\n",
       "    </tr>\n",
       "    <tr>\n",
       "      <th>4</th>\n",
       "      <td>HSI</td>\n",
       "      <td>1987-01-07</td>\n",
       "      <td>2607.100098</td>\n",
       "      <td>2607.100098</td>\n",
       "      <td>2607.100098</td>\n",
       "      <td>2607.100098</td>\n",
       "      <td>2607.100098</td>\n",
       "      <td>0.0</td>\n",
       "      <td>338.923013</td>\n",
       "    </tr>\n",
       "  </tbody>\n",
       "</table>\n",
       "</div>"
      ],
      "text/plain": [
       "  Index        Date         Open         High          Low        Close  \\\n",
       "0   HSI  1986-12-31  2568.300049  2568.300049  2568.300049  2568.300049   \n",
       "1   HSI  1987-01-02  2540.100098  2540.100098  2540.100098  2540.100098   \n",
       "2   HSI  1987-01-05  2552.399902  2552.399902  2552.399902  2552.399902   \n",
       "3   HSI  1987-01-06  2583.899902  2583.899902  2583.899902  2583.899902   \n",
       "4   HSI  1987-01-07  2607.100098  2607.100098  2607.100098  2607.100098   \n",
       "\n",
       "     Adj Close  Volume    CloseUSD  \n",
       "0  2568.300049     0.0  333.879006  \n",
       "1  2540.100098     0.0  330.213013  \n",
       "2  2552.399902     0.0  331.811987  \n",
       "3  2583.899902     0.0  335.906987  \n",
       "4  2607.100098     0.0  338.923013  "
      ]
     },
     "execution_count": 27,
     "metadata": {},
     "output_type": "execute_result"
    }
   ],
   "source": [
    "df.head()"
   ]
  },
  {
   "cell_type": "code",
   "execution_count": 47,
   "id": "5e20de88",
   "metadata": {},
   "outputs": [
    {
     "name": "stdout",
     "output_type": "stream",
     "text": [
      "{'Index': 'GSPTSE', 'Date': '2014-05-15', 'Open': 14673.7002, 'High': 14673.7002, 'Low': 14516.2002, 'Close': 14588.90039, 'Adj Close': 14588.90039, 'Volume': 20518080000.0, 'CloseUSD': 12108.7873237}\n",
      "{'Index': 'IXIC', 'Date': '1994-12-12', 'Open': 719.23999, 'High': 720.98999, 'Low': 712.47998, 'Close': 719.119995, 'Adj Close': 719.119995, 'Volume': 260890000.0, 'CloseUSD': 719.119995}\n",
      "{'Index': 'HSI', 'Date': '2019-11-25', 'Open': 26873.34961, 'High': 27114.2207, 'Low': 26852.89063, 'Close': 26993.03906, 'Adj Close': 26993.03906, 'Volume': 1497175900.0, 'CloseUSD': 3509.0950778}\n",
      "{'Index': 'J203.JO', 'Date': '2020-05-12', 'Open': 50202.85156, 'High': 50795.46094, 'Low': 50202.85156, 'Close': 50319.41016, 'Adj Close': 50319.41016, 'Volume': 0.0, 'CloseUSD': 3522.3587112000005}\n",
      "{'Index': 'N225', 'Date': '1986-05-23', 'Open': 16204.98047, 'High': 16204.98047, 'Low': 16204.98047, 'Close': 16204.98047, 'Adj Close': 16204.98047, 'Volume': 0.0, 'CloseUSD': 162.0498047}\n",
      "{'Index': 'NYA', 'Date': '1995-10-10', 'Open': 3271.620117, 'High': 3271.620117, 'Low': 3271.620117, 'Close': 3271.620117, 'Adj Close': 3271.620117, 'Volume': 0.0, 'CloseUSD': 3271.620117}\n",
      "{'Index': 'IXIC', 'Date': '2012-10-25', 'Open': 3005.040039, 'High': 3007.709961, 'Low': 2975.97998, 'Close': 2986.120117, 'Adj Close': 2986.120117, 'Volume': 1922660000.0, 'CloseUSD': 2986.120117}\n",
      "{'Index': 'NYA', 'Date': '2003-01-21', 'Open': 5108.509766, 'High': 5111.930176, 'Low': 5016.279785, 'Close': 5016.279785, 'Adj Close': 5016.279785, 'Volume': 1345800000.0, 'CloseUSD': 5016.279785}\n",
      "{'Index': 'NYA', 'Date': '1991-11-25', 'Open': 2194.790039, 'High': 2194.790039, 'Low': 2194.790039, 'Close': 2194.790039, 'Adj Close': 2194.790039, 'Volume': 0.0, 'CloseUSD': 2194.790039}\n",
      "{'Index': 'N225', 'Date': '1984-04-09', 'Open': 10890.7002, 'High': 10890.7002, 'Low': 10890.7002, 'Close': 10890.7002, 'Adj Close': 10890.7002, 'Volume': 0.0, 'CloseUSD': 108.907002}\n",
      "{'Index': 'NSEI', 'Date': '2011-10-14', 'Open': 5057.350098, 'High': 5141.399902, 'Low': 5056.600098, 'Close': 5132.299805, 'Adj Close': 5132.299805, 'Volume': 0.0, 'CloseUSD': 51.32299805}\n",
      "{'Index': 'NYA', 'Date': '1978-08-04', 'Open': 616.869995, 'High': 616.869995, 'Low': 616.869995, 'Close': 616.869995, 'Adj Close': 616.869995, 'Volume': 0.0, 'CloseUSD': 616.869995}\n",
      "{'Index': 'TWII', 'Date': '2018-12-26', 'Open': 9544.870117, 'High': 9591.910156, 'Low': 9473.299805, 'Close': 9478.990234, 'Adj Close': 9478.990234, 'Volume': 1299700.0, 'CloseUSD': 379.1596093600001}\n",
      "{'Index': 'GDAXI', 'Date': '2015-02-25', 'Open': 11208.26953, 'High': 11225.59961, 'Low': 11174.78027, 'Close': 11210.26953, 'Adj Close': 11210.26953, 'Volume': 80915300.0, 'CloseUSD': 13676.5288266}\n",
      "{'Index': '000001.SS', 'Date': '2018-06-11', 'Open': 3057.339111, 'High': 3063.610107, 'Low': 3037.914063, 'Close': 3052.782959, 'Adj Close': 3052.782959, 'Volume': 108600.0, 'CloseUSD': 488.4452734400001}\n",
      "{'Index': 'N225', 'Date': '2004-06-08', 'Open': 11533.92969, 'High': 11542.58984, 'Low': 11452.99023, 'Close': 11521.92969, 'Adj Close': 11521.92969, 'Volume': 79100000.0, 'CloseUSD': 115.21929690000002}\n",
      "{'Index': 'NYA', 'Date': '1992-04-21', 'Open': 2386.48999, 'High': 2386.48999, 'Low': 2386.48999, 'Close': 2386.48999, 'Adj Close': 2386.48999, 'Volume': 0.0, 'CloseUSD': 2386.48999}\n",
      "{'Index': 'N225', 'Date': '2017-11-28', 'Open': 22474.74023, 'High': 22580.99023, 'Low': 22363.93945, 'Close': 22486.24023, 'Adj Close': 22486.24023, 'Volume': 76800000.0, 'CloseUSD': 224.8624023}\n",
      "{'Index': 'SSMI', 'Date': '1995-10-09', 'Open': 3054.0, 'High': 3082.199951, 'Low': 3045.399902, 'Close': 3064.0, 'Adj Close': 3064.0, 'Volume': 0.0, 'CloseUSD': 3401.0400000000004}\n",
      "{'Index': 'IXIC', 'Date': '2008-12-26', 'Open': 1531.199951, 'High': 1532.130005, 'Low': 1518.969971, 'Close': 1530.23999, 'Adj Close': 1530.23999, 'Volume': 592760000.0, 'CloseUSD': 1530.23999}\n",
      "{'Index': 'GSPTSE', 'Date': '1991-10-23', 'Open': 3471.300049, 'High': 3471.300049, 'Low': 3455.600098, 'Close': 3459.199951, 'Adj Close': 3459.199951, 'Volume': 25810000.0, 'CloseUSD': 2871.13595933}\n",
      "{'Index': 'NSEI', 'Date': '2010-02-02', 'Open': 4907.850098, 'High': 4951.149902, 'Low': 4814.100098, 'Close': 4830.100098, 'Adj Close': 4830.100098, 'Volume': 0.0, 'CloseUSD': 48.30100098}\n",
      "{'Index': 'TWII', 'Date': '2000-05-19', 'Open': 9030.679688, 'High': 9146.589844, 'Low': 9030.570313, 'Close': 9119.769531, 'Adj Close': 9119.735352, 'Volume': 0.0, 'CloseUSD': 364.79078124}\n",
      "{'Index': 'IXIC', 'Date': '1995-04-06', 'Open': 816.929993, 'High': 818.159973, 'Low': 813.52002, 'Close': 813.799988, 'Adj Close': 813.799988, 'Volume': 348320000.0, 'CloseUSD': 813.799988}\n",
      "{'Index': 'IXIC', 'Date': '1978-04-20', 'Open': 112.860001, 'High': 112.860001, 'Low': 112.860001, 'Close': 112.860001, 'Adj Close': 112.860001, 'Volume': 0.0, 'CloseUSD': 112.860001}\n",
      "{'Index': '399001.SZ', 'Date': '2020-06-18', 'Open': 11416.08008, 'High': 11503.37988, 'Low': 11397.57031, 'Close': 11494.54981, 'Adj Close': 11494.54981, 'Volume': 1735900.0, 'CloseUSD': 1839.1279696}\n",
      "{'Index': 'GDAXI', 'Date': '2010-12-08', 'Open': 6976.189941, 'High': 7013.529785, 'Low': 6956.669922, 'Close': 6975.870117, 'Adj Close': 6975.870117, 'Volume': 89053100.0, 'CloseUSD': 8510.56154274}\n",
      "{'Index': 'SSMI', 'Date': '2010-09-08', 'Open': 6340.399902, 'High': 6393.779785, 'Low': 6300.649902, 'Close': 6386.950195, 'Adj Close': 6386.950195, 'Volume': 52661900.0, 'CloseUSD': 7089.514716450001}\n",
      "{'Index': 'HSI', 'Date': '1993-07-02', 'Open': 7205.399902, 'High': 7236.5, 'Low': 7135.299805, 'Close': 7217.899902, 'Adj Close': 7217.899902, 'Volume': 0.0, 'CloseUSD': 938.32698726}\n",
      "{'Index': '000001.SS', 'Date': '2007-11-09', 'Open': 5276.007813, 'High': 5382.696777, 'Low': 5217.628906, 'Close': 5315.540039, 'Adj Close': 5315.540039, 'Volume': 47400.0, 'CloseUSD': 850.4864062400001}\n",
      "{'Index': 'IXIC', 'Date': '1980-08-13', 'Open': 177.020004, 'High': 177.020004, 'Low': 177.020004, 'Close': 177.020004, 'Adj Close': 177.020004, 'Volume': 0.0, 'CloseUSD': 177.020004}\n",
      "{'Index': 'GSPTSE', 'Date': '1989-11-30', 'Open': 3941.5, 'High': 3943.699951, 'Low': 3927.399902, 'Close': 3942.800049, 'Adj Close': 3932.787354, 'Volume': 25490000.0, 'CloseUSD': 3272.52404067}\n",
      "{'Index': '000001.SS', 'Date': '2005-09-29', 'Open': 1134.44104, 'High': 1155.776978, 'Low': 1134.44104, 'Close': 1155.484985, 'Adj Close': 1155.484985, 'Volume': 18600.0, 'CloseUSD': 184.8775976}\n",
      "{'Index': 'N100', 'Date': '2013-06-04', 'Open': 739.940002, 'High': 741.429993, 'Low': 734.700012, 'Close': 735.98999, 'Adj Close': 735.98999, 'Volume': 259413000.0, 'CloseUSD': 897.9077878}\n",
      "{'Index': 'GSPTSE', 'Date': '2019-02-21', 'Open': 16001.90039, 'High': 16030.7002, 'Low': 15979.7002, 'Close': 16000.90039, 'Adj Close': 16000.90039, 'Volume': 29852970000.0, 'CloseUSD': 13280.7473237}\n",
      "{'Index': '399001.SZ', 'Date': '2010-08-31', 'Open': 11273.86035, 'High': 11377.70996, 'Low': 11237.09961, 'Close': 11338.70996, 'Adj Close': 11338.58301, 'Volume': 107800.0, 'CloseUSD': 1814.1935936}\n",
      "{'Index': 'IXIC', 'Date': '1982-09-16', 'Open': 186.800003, 'High': 186.800003, 'Low': 186.800003, 'Close': 186.800003, 'Adj Close': 186.800003, 'Volume': 0.0, 'CloseUSD': 186.800003}\n",
      "{'Index': 'IXIC', 'Date': '1980-08-13', 'Open': 177.020004, 'High': 177.020004, 'Low': 177.020004, 'Close': 177.020004, 'Adj Close': 177.020004, 'Volume': 0.0, 'CloseUSD': 177.020004}\n",
      "{'Index': 'NYA', 'Date': '1993-07-15', 'Open': 2632.439941, 'High': 2632.439941, 'Low': 2632.439941, 'Close': 2632.439941, 'Adj Close': 2632.439941, 'Volume': 0.0, 'CloseUSD': 2632.439941}\n",
      "{'Index': 'SSMI', 'Date': '2009-10-02', 'Open': 6210.410156, 'High': 6217.200195, 'Low': 6108.310059, 'Close': 6150.169922, 'Adj Close': 6150.169922, 'Volume': 91852900.0, 'CloseUSD': 6826.68861342}\n",
      "{'Index': 'TWII', 'Date': '2007-10-16', 'Open': 9468.879883, 'High': 9618.030273, 'Low': 9461.269531, 'Close': 9592.469727, 'Adj Close': 9592.433594, 'Volume': 5134200.0, 'CloseUSD': 383.69878908}\n",
      "{'Index': 'SSMI', 'Date': '2000-10-17', 'Open': 7629.100098, 'High': 7663.5, 'Low': 7555.899902, 'Close': 7611.799805, 'Adj Close': 7611.799805, 'Volume': 0.0, 'CloseUSD': 8449.09778355}\n",
      "{'Index': 'NYA', 'Date': '1972-06-16', 'Open': 634.849976, 'High': 634.849976, 'Low': 634.849976, 'Close': 634.849976, 'Adj Close': 634.849976, 'Volume': 0.0, 'CloseUSD': 634.849976}\n",
      "{'Index': 'HSI', 'Date': '2001-11-28', 'Open': 11225.41016, 'High': 11225.41016, 'Low': 11012.46973, 'Close': 11066.19043, 'Adj Close': 11066.19043, 'Volume': 362437400.0, 'CloseUSD': 1438.6047559}\n",
      "{'Index': 'NYA', 'Date': '1969-01-16', 'Open': 611.27002, 'High': 611.27002, 'Low': 611.27002, 'Close': 611.27002, 'Adj Close': 611.27002, 'Volume': 0.0, 'CloseUSD': 611.27002}\n",
      "{'Index': 'GDAXI', 'Date': '2018-09-11', 'Open': 12013.00977, 'High': 12017.73047, 'Low': 11865.46973, 'Close': 11970.26953, 'Adj Close': 11970.26953, 'Volume': 0.0, 'CloseUSD': 14603.7288266}\n",
      "{'Index': 'N225', 'Date': '1982-03-12', 'Open': 7102.609863, 'High': 7102.609863, 'Low': 7102.609863, 'Close': 7102.609863, 'Adj Close': 7102.609863, 'Volume': 0.0, 'CloseUSD': 71.02609862999999}\n",
      "{'Index': 'SSMI', 'Date': '2007-12-18', 'Open': 8485.900391, 'High': 8565.200195, 'Low': 8458.400391, 'Close': 8467.099609, 'Adj Close': 8467.099609, 'Volume': 72019600.0, 'CloseUSD': 9398.48056599}\n",
      "{'Index': 'TWII', 'Date': '2016-01-29', 'Open': 7880.779785, 'High': 8080.600098, 'Low': 7876.819824, 'Close': 8080.600098, 'Adj Close': 8080.569336, 'Volume': 2552200.0, 'CloseUSD': 323.22400392000003}\n",
      "{'Index': '399001.SZ', 'Date': '2016-11-29', 'Open': 11039.62012, 'High': 11124.80957, 'Low': 11026.29981, 'Close': 11034.7002, 'Adj Close': 11034.57715, 'Volume': 1133700.0, 'CloseUSD': 1765.5520319999998}\n",
      "{'Index': 'N225', 'Date': '2005-01-27', 'Open': 11390.08984, 'High': 11390.08984, 'Low': 11316.29981, 'Close': 11341.30957, 'Adj Close': 11341.30957, 'Volume': 85900000.0, 'CloseUSD': 113.4130957}\n",
      "{'Index': 'SSMI', 'Date': '1995-07-19', 'Open': 2874.600098, 'High': 2874.600098, 'Low': 2851.100098, 'Close': 2856.199951, 'Adj Close': 2856.199951, 'Volume': 0.0, 'CloseUSD': 3170.3819456100005}\n",
      "{'Index': 'SSMI', 'Date': '2000-03-09', 'Open': 6974.600098, 'High': 7008.899902, 'Low': 6877.799805, 'Close': 6902.0, 'Adj Close': 6902.0, 'Volume': 0.0, 'CloseUSD': 7661.22}\n",
      "{'Index': 'NYA', 'Date': '1986-03-06', 'Open': 1375.959961, 'High': 1375.959961, 'Low': 1375.959961, 'Close': 1375.959961, 'Adj Close': 1375.959961, 'Volume': 0.0, 'CloseUSD': 1375.959961}\n",
      "{'Index': 'IXIC', 'Date': '1980-03-26', 'Open': 132.220001, 'High': 132.220001, 'Low': 132.220001, 'Close': 132.220001, 'Adj Close': 132.220001, 'Volume': 0.0, 'CloseUSD': 132.220001}\n",
      "{'Index': 'GSPTSE', 'Date': '1986-09-29', 'Open': 2974.600098, 'High': 2974.600098, 'Low': 2956.600098, 'Close': 2961.699951, 'Adj Close': 2954.178955, 'Volume': 13500000.0, 'CloseUSD': 2458.21095933}\n",
      "{'Index': 'GSPTSE', 'Date': '2009-01-14', 'Open': 8863.799805, 'High': 8961.599609, 'Low': 8608.599609, 'Close': 8688.400391, 'Adj Close': 8688.400391, 'Volume': 28519490000.0, 'CloseUSD': 7211.372324529999}\n",
      "{'Index': 'HSI', 'Date': '1993-11-10', 'Open': 9109.900391, 'High': 9325.400391, 'Low': 9109.900391, 'Close': 9325.400391, 'Adj Close': 9325.400391, 'Volume': 0.0, 'CloseUSD': 1212.30205083}\n",
      "{'Index': 'N225', 'Date': '2002-12-16', 'Open': 8499.089844, 'High': 8570.429688, 'Low': 8416.200195, 'Close': 8450.94043, 'Adj Close': 8450.94043, 'Volume': 44500000.0, 'CloseUSD': 84.50940430000001}\n",
      "{'Index': 'NSEI', 'Date': '2009-01-23', 'Open': 2705.449951, 'High': 2765.550049, 'Low': 2661.649902, 'Close': 2678.550049, 'Adj Close': 2678.550049, 'Volume': 0.0, 'CloseUSD': 26.78550049}\n",
      "{'Index': 'N225', 'Date': '1965-08-09', 'Open': 1150.569946, 'High': 1150.569946, 'Low': 1150.569946, 'Close': 1150.569946, 'Adj Close': 1150.569946, 'Volume': 0.0, 'CloseUSD': 11.50569946}\n",
      "{'Index': 'NYA', 'Date': '1981-09-10', 'Open': 734.77002, 'High': 734.77002, 'Low': 734.77002, 'Close': 734.77002, 'Adj Close': 734.77002, 'Volume': 0.0, 'CloseUSD': 734.77002}\n",
      "{'Index': 'NYA', 'Date': '1968-08-12', 'Open': 581.450012, 'High': 581.450012, 'Low': 581.450012, 'Close': 581.450012, 'Adj Close': 581.450012, 'Volume': 0.0, 'CloseUSD': 581.450012}\n",
      "{'Index': 'NYA', 'Date': '1989-04-12', 'Open': 1771.52002, 'High': 1771.52002, 'Low': 1771.52002, 'Close': 1771.52002, 'Adj Close': 1771.52002, 'Volume': 0.0, 'CloseUSD': 1771.52002}\n",
      "{'Index': 'NYA', 'Date': '1992-03-24', 'Open': 2388.5, 'High': 2388.5, 'Low': 2388.5, 'Close': 2388.5, 'Adj Close': 2388.5, 'Volume': 0.0, 'CloseUSD': 2388.5}\n",
      "{'Index': 'HSI', 'Date': '2006-07-20', 'Open': 16418.14063, 'High': 16481.16992, 'Low': 16390.2793, 'Close': 16472.61914, 'Adj Close': 16472.61914, 'Volume': 316291000.0, 'CloseUSD': 2141.4404882}\n",
      "{'Index': 'NSEI', 'Date': '2011-07-08', 'Open': 5734.649902, 'High': 5740.399902, 'Low': 5651.049805, 'Close': 5660.649902, 'Adj Close': 5660.649902, 'Volume': 0.0, 'CloseUSD': 56.60649902}\n",
      "{'Index': 'N225', 'Date': '1978-08-08', 'Open': 5492.209961, 'High': 5492.209961, 'Low': 5492.209961, 'Close': 5492.209961, 'Adj Close': 5492.209961, 'Volume': 0.0, 'CloseUSD': 54.92209961}\n",
      "{'Index': 'NYA', 'Date': '1969-01-02', 'Open': 623.219971, 'High': 623.219971, 'Low': 623.219971, 'Close': 623.219971, 'Adj Close': 623.219971, 'Volume': 0.0, 'CloseUSD': 623.219971}\n",
      "{'Index': 'IXIC', 'Date': '1973-02-01', 'Open': 126.940002, 'High': 126.940002, 'Low': 126.940002, 'Close': 126.940002, 'Adj Close': 126.940002, 'Volume': 0.0, 'CloseUSD': 126.940002}\n",
      "{'Index': 'NSEI', 'Date': '2018-07-03', 'Open': 10668.59961, 'High': 10713.29981, 'Low': 10630.25, 'Close': 10699.90039, 'Adj Close': 10699.90039, 'Volume': 202100.0, 'CloseUSD': 106.9990039}\n",
      "{'Index': '000001.SS', 'Date': '2013-04-01', 'Open': 2229.459961, 'High': 2243.947998, 'Low': 2227.313965, 'Close': 2234.39502, 'Adj Close': 2234.39502, 'Volume': 77400.0, 'CloseUSD': 357.5032032}\n",
      "{'Index': 'N100', 'Date': '2017-09-11', 'Open': 1005.429993, 'High': 1011.469971, 'Low': 1005.299988, 'Close': 1010.919983, 'Adj Close': 1010.919983, 'Volume': 0.0, 'CloseUSD': 1233.32237926}\n",
      "{'Index': 'HSI', 'Date': '2020-05-05', 'Open': 23755.76953, 'High': 23928.44922, 'Low': 23697.88086, 'Close': 23868.66016, 'Adj Close': 23868.66016, 'Volume': 1332967300.0, 'CloseUSD': 3102.9258208}\n",
      "{'Index': 'NYA', 'Date': '1989-11-06', 'Open': 1953.709961, 'High': 1953.709961, 'Low': 1953.709961, 'Close': 1953.709961, 'Adj Close': 1953.709961, 'Volume': 0.0, 'CloseUSD': 1953.709961}\n",
      "{'Index': 'IXIC', 'Date': '1993-06-09', 'Open': 687.0, 'High': 691.390015, 'Low': 686.349976, 'Close': 689.23999, 'Adj Close': 689.23999, 'Volume': 263050000.0, 'CloseUSD': 689.23999}\n",
      "{'Index': 'GSPTSE', 'Date': '1998-01-20', 'Open': 6494.0, 'High': 6509.5, 'Low': 6469.0, 'Close': 6509.5, 'Adj Close': 6509.5, 'Volume': 7003750000.0, 'CloseUSD': 5402.884999999999}\n",
      "{'Index': 'N225', 'Date': '1999-01-20', 'Open': 13794.91992, 'High': 14028.04981, 'Low': 13738.95996, 'Close': 14028.04981, 'Adj Close': 14028.04981, 'Volume': 0.0, 'CloseUSD': 140.28049810000002}\n",
      "{'Index': 'N225', 'Date': '1967-01-05', 'Open': 1419.969971, 'High': 1419.969971, 'Low': 1419.969971, 'Close': 1419.969971, 'Adj Close': 1419.969971, 'Volume': 0.0, 'CloseUSD': 14.19969971}\n",
      "{'Index': 'NSEI', 'Date': '2014-04-29', 'Open': 6769.0, 'High': 6779.700195, 'Low': 6708.649902, 'Close': 6715.25, 'Adj Close': 6715.25, 'Volume': 115500.0, 'CloseUSD': 67.1525}\n",
      "{'Index': 'SSMI', 'Date': '1990-11-26', 'Open': 1385.0, 'High': 1385.0, 'Low': 1348.099976, 'Close': 1353.699951, 'Adj Close': 1353.699951, 'Volume': 0.0, 'CloseUSD': 1502.60694561}\n",
      "{'Index': 'IXIC', 'Date': '2010-09-22', 'Open': 2339.909912, 'High': 2355.909912, 'Low': 2323.550049, 'Close': 2334.550049, 'Adj Close': 2334.550049, 'Volume': 2170210000.0, 'CloseUSD': 2334.550049}\n",
      "{'Index': 'GDAXI', 'Date': '2015-09-01', 'Open': 10073.74023, 'High': 10119.53027, 'Low': 9928.650391, 'Close': 10015.57031, 'Adj Close': 10015.57031, 'Volume': 119366700.0, 'CloseUSD': 12218.995778199998}\n",
      "{'Index': 'IXIC', 'Date': '1987-06-16', 'Open': 425.200012, 'High': 427.600006, 'Low': 424.899994, 'Close': 427.5, 'Adj Close': 427.5, 'Volume': 170600000.0, 'CloseUSD': 427.5}\n",
      "{'Index': 'N225', 'Date': '2017-12-06', 'Open': 22525.38086, 'High': 22528.21094, 'Low': 22119.21094, 'Close': 22177.03906, 'Adj Close': 22177.03906, 'Volume': 97300000.0, 'CloseUSD': 221.7703906}\n",
      "{'Index': 'N100', 'Date': '2001-08-20', 'Open': 818.97998, 'High': 823.830017, 'Low': 810.469971, 'Close': 821.25, 'Adj Close': 821.25, 'Volume': 0.0, 'CloseUSD': 1001.925}\n",
      "{'Index': 'N100', 'Date': '2019-03-29', 'Open': 1038.329956, 'High': 1043.180054, 'Low': 1036.030029, 'Close': 1042.47998, 'Adj Close': 1042.47998, 'Volume': 182212900.0, 'CloseUSD': 1271.8255756}\n",
      "{'Index': 'NYA', 'Date': '2020-08-25', 'Open': 13029.90039, 'High': 13029.90039, 'Low': 12943.15039, 'Close': 13001.99023, 'Adj Close': 13001.99023, 'Volume': 3619300000.0, 'CloseUSD': 13001.99023}\n",
      "{'Index': '399001.SZ', 'Date': '2018-06-25', 'Open': 9472.910156, 'High': 9494.44043, 'Low': 9320.660156, 'Close': 9324.830078, 'Adj Close': 9324.792969, 'Volume': 69900.0, 'CloseUSD': 1491.97281248}\n",
      "{'Index': '000001.SS', 'Date': '2019-10-21', 'Open': 2933.899902, 'High': 2940.320068, 'Low': 2917.689941, 'Close': 2939.620117, 'Adj Close': 2939.620117, 'Volume': 132500.0, 'CloseUSD': 470.33921872}\n",
      "{'Index': 'HSI', 'Date': '1995-01-25', 'Open': 7034.299805, 'High': 7252.299805, 'Low': 7034.299805, 'Close': 7240.700195, 'Adj Close': 7240.700195, 'Volume': 0.0, 'CloseUSD': 941.29102535}\n",
      "{'Index': 'TWII', 'Date': '2000-03-24', 'Open': 9571.280273, 'High': 9571.280273, 'Low': 9405.139648, 'Close': 9482.639648, 'Adj Close': 9482.604492, 'Volume': 0.0, 'CloseUSD': 379.30558592}\n",
      "{'Index': 'IXIC', 'Date': '1989-12-28', 'Open': 448.600006, 'High': 450.0, 'Low': 448.200012, 'Close': 450.0, 'Adj Close': 450.0, 'Volume': 128970000.0, 'CloseUSD': 450.0}\n",
      "{'Index': 'GDAXI', 'Date': '2010-10-12', 'Open': 6257.029785, 'High': 6316.77002, 'Low': 6228.390137, 'Close': 6304.569824, 'Adj Close': 6304.569824, 'Volume': 99634300.0, 'CloseUSD': 7691.57518528}\n",
      "{'Index': 'N225', 'Date': '2004-06-08', 'Open': 11533.92969, 'High': 11542.58984, 'Low': 11452.99023, 'Close': 11521.92969, 'Adj Close': 11521.92969, 'Volume': 79100000.0, 'CloseUSD': 115.21929690000002}\n",
      "{'Index': 'IXIC', 'Date': '2017-05-09', 'Open': 6111.819824, 'High': 6133.0, 'Low': 6107.589844, 'Close': 6120.589844, 'Adj Close': 6120.589844, 'Volume': 1997490000.0, 'CloseUSD': 6120.589844}\n",
      "{'Index': 'N225', 'Date': '1971-11-08', 'Open': 2236.23999, 'High': 2236.23999, 'Low': 2236.23999, 'Close': 2236.23999, 'Adj Close': 2236.23999, 'Volume': 0.0, 'CloseUSD': 22.3623999}\n",
      "{'Index': 'N100', 'Date': '2002-03-06', 'Open': 792.549988, 'High': 800.01001, 'Low': 790.190002, 'Close': 796.97998, 'Adj Close': 796.97998, 'Volume': 0.0, 'CloseUSD': 972.3155756}\n",
      "{'Index': 'J203.JO', 'Date': '2019-01-28', 'Open': 54050.23047, 'High': 54173.37891, 'Low': 53767.46875, 'Close': 53767.46875, 'Adj Close': 53767.46875, 'Volume': 0.0, 'CloseUSD': 3763.7228125}\n"
     ]
    }
   ],
   "source": [
    "for i in range(101,200):\n",
    "    dict_stock = df.sample(1).to_dict(orient=\"records\")[0]\n",
    "    producer.send('demo_testing2', value=dict_stock)\n",
    "    print(dict_stock)\n",
    "    sleep(1)"
   ]
  },
  {
   "cell_type": "code",
   "execution_count": 30,
   "id": "8eab1892",
   "metadata": {},
   "outputs": [],
   "source": [
    "producer.flush() #clear data from kafka server"
   ]
  }
 ],
 "metadata": {
  "kernelspec": {
   "display_name": "Python 3 (ipykernel)",
   "language": "python",
   "name": "python3"
  },
  "language_info": {
   "codemirror_mode": {
    "name": "ipython",
    "version": 3
   },
   "file_extension": ".py",
   "mimetype": "text/x-python",
   "name": "python",
   "nbconvert_exporter": "python",
   "pygments_lexer": "ipython3",
   "version": "3.9.13"
  }
 },
 "nbformat": 4,
 "nbformat_minor": 5
}
